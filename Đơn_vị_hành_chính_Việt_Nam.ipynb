{
  "cells": [
    {
      "cell_type": "code",
      "execution_count": 14,
      "metadata": {
        "id": "jrZIemUlJSpH"
      },
      "outputs": [],
      "source": [
        "import pandas as pd\n",
        "import numpy as np\n",
        "from datetime import datetime"
      ]
    },
    {
      "cell_type": "code",
      "execution_count": 15,
      "metadata": {
        "colab": {
          "base_uri": "https://localhost:8080/"
        },
        "id": "cg9gmqi8J7jK",
        "outputId": "6ad25ec6-b853-43c5-fe37-7054e2acf419"
      },
      "outputs": [
        {
          "name": "stdout",
          "output_type": "stream",
          "text": [
            "WARNING *** file size (2453055) not 512 + multiple of sector size (512)\n"
          ]
        }
      ],
      "source": [
        "dataset = pd.read_excel(r\"Danh sách cấp tỉnh kèm theo quận huyện, phường xã ___15_03_2023.xls\", sheet_name=\"Sheet1\", header=0)"
      ]
    },
    {
      "cell_type": "code",
      "execution_count": 16,
      "metadata": {
        "colab": {
          "base_uri": "https://localhost:8080/",
          "height": 310
        },
        "id": "G9uO-4_4KJeq",
        "outputId": "b93d7f7d-4c15-4b76-f5db-e8ba7cb4c86c"
      },
      "outputs": [
        {
          "data": {
            "text/html": [
              "<div>\n",
              "<style scoped>\n",
              "    .dataframe tbody tr th:only-of-type {\n",
              "        vertical-align: middle;\n",
              "    }\n",
              "\n",
              "    .dataframe tbody tr th {\n",
              "        vertical-align: top;\n",
              "    }\n",
              "\n",
              "    .dataframe thead th {\n",
              "        text-align: right;\n",
              "    }\n",
              "</style>\n",
              "<table border=\"1\" class=\"dataframe\">\n",
              "  <thead>\n",
              "    <tr style=\"text-align: right;\">\n",
              "      <th></th>\n",
              "      <th>Tỉnh Thành Phố</th>\n",
              "      <th>Mã TP</th>\n",
              "      <th>Quận Huyện</th>\n",
              "      <th>Mã QH</th>\n",
              "      <th>Phường Xã</th>\n",
              "      <th>Mã PX</th>\n",
              "      <th>Cấp</th>\n",
              "      <th>Tên Tiếng Anh</th>\n",
              "    </tr>\n",
              "  </thead>\n",
              "  <tbody>\n",
              "    <tr>\n",
              "      <th>0</th>\n",
              "      <td>Thành phố Hà Nội</td>\n",
              "      <td>1</td>\n",
              "      <td>Quận Ba Đình</td>\n",
              "      <td>1</td>\n",
              "      <td>Phường Phúc Xá</td>\n",
              "      <td>1.0</td>\n",
              "      <td>Phường</td>\n",
              "      <td>NaN</td>\n",
              "    </tr>\n",
              "    <tr>\n",
              "      <th>1</th>\n",
              "      <td>Thành phố Hà Nội</td>\n",
              "      <td>1</td>\n",
              "      <td>Quận Ba Đình</td>\n",
              "      <td>1</td>\n",
              "      <td>Phường Trúc Bạch</td>\n",
              "      <td>4.0</td>\n",
              "      <td>Phường</td>\n",
              "      <td>NaN</td>\n",
              "    </tr>\n",
              "    <tr>\n",
              "      <th>2</th>\n",
              "      <td>Thành phố Hà Nội</td>\n",
              "      <td>1</td>\n",
              "      <td>Quận Ba Đình</td>\n",
              "      <td>1</td>\n",
              "      <td>Phường Vĩnh Phúc</td>\n",
              "      <td>6.0</td>\n",
              "      <td>Phường</td>\n",
              "      <td>Vinh Phuc Commune</td>\n",
              "    </tr>\n",
              "    <tr>\n",
              "      <th>3</th>\n",
              "      <td>Thành phố Hà Nội</td>\n",
              "      <td>1</td>\n",
              "      <td>Quận Ba Đình</td>\n",
              "      <td>1</td>\n",
              "      <td>Phường Cống Vị</td>\n",
              "      <td>7.0</td>\n",
              "      <td>Phường</td>\n",
              "      <td>NaN</td>\n",
              "    </tr>\n",
              "    <tr>\n",
              "      <th>4</th>\n",
              "      <td>Thành phố Hà Nội</td>\n",
              "      <td>1</td>\n",
              "      <td>Quận Ba Đình</td>\n",
              "      <td>1</td>\n",
              "      <td>Phường Liễu Giai</td>\n",
              "      <td>8.0</td>\n",
              "      <td>Phường</td>\n",
              "      <td>Lieu Giai Commune</td>\n",
              "    </tr>\n",
              "  </tbody>\n",
              "</table>\n",
              "</div>"
            ],
            "text/plain": [
              "     Tỉnh Thành Phố  Mã TP    Quận Huyện  Mã QH         Phường Xã  Mã PX  \\\n",
              "0  Thành phố Hà Nội      1  Quận Ba Đình      1    Phường Phúc Xá    1.0   \n",
              "1  Thành phố Hà Nội      1  Quận Ba Đình      1  Phường Trúc Bạch    4.0   \n",
              "2  Thành phố Hà Nội      1  Quận Ba Đình      1  Phường Vĩnh Phúc    6.0   \n",
              "3  Thành phố Hà Nội      1  Quận Ba Đình      1    Phường Cống Vị    7.0   \n",
              "4  Thành phố Hà Nội      1  Quận Ba Đình      1  Phường Liễu Giai    8.0   \n",
              "\n",
              "      Cấp      Tên Tiếng Anh  \n",
              "0  Phường                NaN  \n",
              "1  Phường                NaN  \n",
              "2  Phường  Vinh Phuc Commune  \n",
              "3  Phường                NaN  \n",
              "4  Phường  Lieu Giai Commune  "
            ]
          },
          "execution_count": 16,
          "metadata": {},
          "output_type": "execute_result"
        }
      ],
      "source": [
        "dataset.head()"
      ]
    },
    {
      "cell_type": "code",
      "execution_count": 17,
      "metadata": {
        "colab": {
          "base_uri": "https://localhost:8080/"
        },
        "id": "zjnbs6hyKQRx",
        "outputId": "a8d69292-3e76-4ba5-fe76-ce0d864ca4b7"
      },
      "outputs": [
        {
          "data": {
            "text/plain": [
              "Index(['Tỉnh Thành Phố', 'Mã TP', 'Quận Huyện', 'Mã QH', 'Phường Xã', 'Mã PX',\n",
              "       'Cấp', 'Tên Tiếng Anh'],\n",
              "      dtype='object')"
            ]
          },
          "execution_count": 17,
          "metadata": {},
          "output_type": "execute_result"
        }
      ],
      "source": [
        "dataset.columns"
      ]
    },
    {
      "cell_type": "code",
      "execution_count": 18,
      "metadata": {
        "id": "FDXE6tHVKWnC"
      },
      "outputs": [],
      "source": [
        "dataset.drop(['Tên Tiếng Anh', \"Cấp\"], axis=1, inplace=True)"
      ]
    },
    {
      "cell_type": "code",
      "execution_count": 19,
      "metadata": {
        "colab": {
          "base_uri": "https://localhost:8080/",
          "height": 206
        },
        "id": "4NtZTTUZKhwS",
        "outputId": "06a15d6e-c8b3-4c0d-d46f-d31a6d4e1dc1"
      },
      "outputs": [
        {
          "data": {
            "text/html": [
              "<div>\n",
              "<style scoped>\n",
              "    .dataframe tbody tr th:only-of-type {\n",
              "        vertical-align: middle;\n",
              "    }\n",
              "\n",
              "    .dataframe tbody tr th {\n",
              "        vertical-align: top;\n",
              "    }\n",
              "\n",
              "    .dataframe thead th {\n",
              "        text-align: right;\n",
              "    }\n",
              "</style>\n",
              "<table border=\"1\" class=\"dataframe\">\n",
              "  <thead>\n",
              "    <tr style=\"text-align: right;\">\n",
              "      <th></th>\n",
              "      <th>Tỉnh Thành Phố</th>\n",
              "      <th>Mã TP</th>\n",
              "      <th>Quận Huyện</th>\n",
              "      <th>Mã QH</th>\n",
              "      <th>Phường Xã</th>\n",
              "      <th>Mã PX</th>\n",
              "    </tr>\n",
              "  </thead>\n",
              "  <tbody>\n",
              "    <tr>\n",
              "      <th>0</th>\n",
              "      <td>Thành phố Hà Nội</td>\n",
              "      <td>1</td>\n",
              "      <td>Quận Ba Đình</td>\n",
              "      <td>1</td>\n",
              "      <td>Phường Phúc Xá</td>\n",
              "      <td>1.0</td>\n",
              "    </tr>\n",
              "    <tr>\n",
              "      <th>1</th>\n",
              "      <td>Thành phố Hà Nội</td>\n",
              "      <td>1</td>\n",
              "      <td>Quận Ba Đình</td>\n",
              "      <td>1</td>\n",
              "      <td>Phường Trúc Bạch</td>\n",
              "      <td>4.0</td>\n",
              "    </tr>\n",
              "    <tr>\n",
              "      <th>2</th>\n",
              "      <td>Thành phố Hà Nội</td>\n",
              "      <td>1</td>\n",
              "      <td>Quận Ba Đình</td>\n",
              "      <td>1</td>\n",
              "      <td>Phường Vĩnh Phúc</td>\n",
              "      <td>6.0</td>\n",
              "    </tr>\n",
              "    <tr>\n",
              "      <th>3</th>\n",
              "      <td>Thành phố Hà Nội</td>\n",
              "      <td>1</td>\n",
              "      <td>Quận Ba Đình</td>\n",
              "      <td>1</td>\n",
              "      <td>Phường Cống Vị</td>\n",
              "      <td>7.0</td>\n",
              "    </tr>\n",
              "    <tr>\n",
              "      <th>4</th>\n",
              "      <td>Thành phố Hà Nội</td>\n",
              "      <td>1</td>\n",
              "      <td>Quận Ba Đình</td>\n",
              "      <td>1</td>\n",
              "      <td>Phường Liễu Giai</td>\n",
              "      <td>8.0</td>\n",
              "    </tr>\n",
              "  </tbody>\n",
              "</table>\n",
              "</div>"
            ],
            "text/plain": [
              "     Tỉnh Thành Phố  Mã TP    Quận Huyện  Mã QH         Phường Xã  Mã PX\n",
              "0  Thành phố Hà Nội      1  Quận Ba Đình      1    Phường Phúc Xá    1.0\n",
              "1  Thành phố Hà Nội      1  Quận Ba Đình      1  Phường Trúc Bạch    4.0\n",
              "2  Thành phố Hà Nội      1  Quận Ba Đình      1  Phường Vĩnh Phúc    6.0\n",
              "3  Thành phố Hà Nội      1  Quận Ba Đình      1    Phường Cống Vị    7.0\n",
              "4  Thành phố Hà Nội      1  Quận Ba Đình      1  Phường Liễu Giai    8.0"
            ]
          },
          "execution_count": 19,
          "metadata": {},
          "output_type": "execute_result"
        }
      ],
      "source": [
        "dataset.head()"
      ]
    },
    {
      "cell_type": "code",
      "execution_count": 20,
      "metadata": {
        "colab": {
          "base_uri": "https://localhost:8080/"
        },
        "id": "wFVjzSjxKnVS",
        "outputId": "380aad4c-0625-459b-f4f5-563bb74ddeb3"
      },
      "outputs": [
        {
          "data": {
            "text/plain": [
              "array([ 1,  2,  4,  6,  8, 10, 11, 12, 14, 15, 17, 19, 20, 22, 24, 25, 26,\n",
              "       27, 30, 31, 33, 34, 35, 36, 37, 38, 40, 42, 44, 45, 46, 48, 49, 51,\n",
              "       52, 54, 56, 58, 60, 62, 64, 66, 67, 68, 70, 72, 74, 75, 77, 79, 80,\n",
              "       82, 83, 84, 86, 87, 89, 91, 92, 93, 94, 95, 96])"
            ]
          },
          "execution_count": 20,
          "metadata": {},
          "output_type": "execute_result"
        }
      ],
      "source": [
        "dataset['Mã TP'].unique()"
      ]
    },
    {
      "cell_type": "code",
      "execution_count": 21,
      "metadata": {
        "id": "phG5XEYuemaM"
      },
      "outputs": [
        {
          "data": {
            "text/html": [
              "<div>\n",
              "<style scoped>\n",
              "    .dataframe tbody tr th:only-of-type {\n",
              "        vertical-align: middle;\n",
              "    }\n",
              "\n",
              "    .dataframe tbody tr th {\n",
              "        vertical-align: top;\n",
              "    }\n",
              "\n",
              "    .dataframe thead th {\n",
              "        text-align: right;\n",
              "    }\n",
              "</style>\n",
              "<table border=\"1\" class=\"dataframe\">\n",
              "  <thead>\n",
              "    <tr style=\"text-align: right;\">\n",
              "      <th></th>\n",
              "      <th>Tỉnh Thành Phố</th>\n",
              "      <th>Mã TP</th>\n",
              "      <th>Quận Huyện</th>\n",
              "      <th>Mã QH</th>\n",
              "      <th>Phường Xã</th>\n",
              "      <th>Mã PX</th>\n",
              "    </tr>\n",
              "  </thead>\n",
              "  <tbody>\n",
              "    <tr>\n",
              "      <th>3797</th>\n",
              "      <td>Thành phố Hải Phòng</td>\n",
              "      <td>31</td>\n",
              "      <td>Huyện Bạch Long Vĩ</td>\n",
              "      <td>318</td>\n",
              "      <td>NaN</td>\n",
              "      <td>NaN</td>\n",
              "    </tr>\n",
              "    <tr>\n",
              "      <th>6208</th>\n",
              "      <td>Tỉnh Quảng Trị</td>\n",
              "      <td>45</td>\n",
              "      <td>Huyện Cồn Cỏ</td>\n",
              "      <td>471</td>\n",
              "      <td>NaN</td>\n",
              "      <td>NaN</td>\n",
              "    </tr>\n",
              "    <tr>\n",
              "      <th>6406</th>\n",
              "      <td>Thành phố Đà Nẵng</td>\n",
              "      <td>48</td>\n",
              "      <td>Huyện Hoàng Sa</td>\n",
              "      <td>498</td>\n",
              "      <td>NaN</td>\n",
              "      <td>NaN</td>\n",
              "    </tr>\n",
              "    <tr>\n",
              "      <th>6821</th>\n",
              "      <td>Tỉnh Quảng Ngãi</td>\n",
              "      <td>51</td>\n",
              "      <td>Huyện Lý Sơn</td>\n",
              "      <td>536</td>\n",
              "      <td>NaN</td>\n",
              "      <td>NaN</td>\n",
              "    </tr>\n",
              "    <tr>\n",
              "      <th>8686</th>\n",
              "      <td>Tỉnh Bà Rịa - Vũng Tàu</td>\n",
              "      <td>77</td>\n",
              "      <td>Huyện Côn Đảo</td>\n",
              "      <td>755</td>\n",
              "      <td>NaN</td>\n",
              "      <td>NaN</td>\n",
              "    </tr>\n",
              "  </tbody>\n",
              "</table>\n",
              "</div>"
            ],
            "text/plain": [
              "              Tỉnh Thành Phố  Mã TP          Quận Huyện  Mã QH Phường Xã  \\\n",
              "3797     Thành phố Hải Phòng     31  Huyện Bạch Long Vĩ    318       NaN   \n",
              "6208          Tỉnh Quảng Trị     45        Huyện Cồn Cỏ    471       NaN   \n",
              "6406       Thành phố Đà Nẵng     48      Huyện Hoàng Sa    498       NaN   \n",
              "6821         Tỉnh Quảng Ngãi     51        Huyện Lý Sơn    536       NaN   \n",
              "8686  Tỉnh Bà Rịa - Vũng Tàu     77       Huyện Côn Đảo    755       NaN   \n",
              "\n",
              "      Mã PX  \n",
              "3797    NaN  \n",
              "6208    NaN  \n",
              "6406    NaN  \n",
              "6821    NaN  \n",
              "8686    NaN  "
            ]
          },
          "execution_count": 21,
          "metadata": {},
          "output_type": "execute_result"
        }
      ],
      "source": [
        "dataset[dataset.isnull().any(axis=1)]"
      ]
    },
    {
      "cell_type": "code",
      "execution_count": 22,
      "metadata": {
        "colab": {
          "base_uri": "https://localhost:8080/"
        },
        "id": "hYA9rQjXLoIA",
        "outputId": "34f6e26a-3c2f-48b2-b6ce-4701a3a12dc4"
      },
      "outputs": [],
      "source": [
        "PROVINCES = []\n",
        "DISTRICTS = []\n",
        "WARDS = []\n",
        "index_p = 1\n",
        "index_d = 1\n",
        "index_w = 1\n",
        "\n",
        "province_ids = dataset['Mã TP'].unique()\n",
        "for province_id in province_ids:\n",
        "    provinces =  dataset[dataset['Mã TP'] == province_id]\n",
        "\n",
        "    # add\n",
        "    item = provinces.iloc[0]\n",
        "    p = [index_p, int(item[\"Mã TP\"]), str(item[\"Tỉnh Thành Phố\"])]\n",
        "    PROVINCES.append(p)\n",
        "\n",
        "    district_ids = provinces[\"Mã QH\"].unique()\n",
        "    for district_id in district_ids:\n",
        "        districts =  provinces[provinces['Mã QH'] == district_id]\n",
        "\n",
        "        # add\n",
        "        item = districts.iloc[0]\n",
        "        d = [index_d, int(item[\"Mã QH\"]), str(item[\"Quận Huyện\"]), index_p]\n",
        "        DISTRICTS.append(d)\n",
        "\n",
        "        for index_3, ward in districts.iterrows():\n",
        "            if np.isnan(ward[\"Mã PX\"]):\n",
        "                continue\n",
        "            w = [index_w, int(ward[\"Mã QH\"]), str(ward[\"Phường Xã\"]), index_d]\n",
        "            WARDS.append(w)\n",
        "            index_w += 1\n",
        "\n",
        "        index_d += 1\n",
        "    index_p += 1"
      ]
    },
    {
      "cell_type": "code",
      "execution_count": null,
      "metadata": {
        "id": "lL_lwgFwWRQl"
      },
      "outputs": [],
      "source": [
        "_p = pd.DataFrame(PROVINCES)\n",
        "_p.columns = [\"Id\", \"Code\", \"Name\"]\n",
        "_p.to_csv(\"provinces.csv\", index=False, header=False)"
      ]
    },
    {
      "cell_type": "code",
      "execution_count": null,
      "metadata": {
        "id": "95xX3nWVWS2d"
      },
      "outputs": [],
      "source": [
        "_d = pd.DataFrame(DISTRICTS)\n",
        "_d.columns = [\"Id\", \"Code\", \"Name\", \"ProvinceId\"]\n",
        "_d.to_csv(\"districts.csv\", index=False, header=False)"
      ]
    },
    {
      "cell_type": "code",
      "execution_count": null,
      "metadata": {
        "id": "R1jbO0VgWTiN"
      },
      "outputs": [],
      "source": [
        "_w = pd.DataFrame(WARDS)\n",
        "_w.columns = [\"Id\", \"Code\", \"Name\", \"DistrictId\"]\n",
        "_w.to_csv(\"wards.csv\", index=False, header=False)"
      ]
    },
    {
      "cell_type": "code",
      "execution_count": null,
      "metadata": {},
      "outputs": [],
      "source": [
        "from datetime import datetime\n",
        "# NEO\n",
        "_p[\"Status\"] = 1 \n",
        "_p[\"IsDeleted\"] = False\n",
        "_p[\"CreatedAt\"] = datetime.now().today()\n",
        "_p[\"UpdatedAt\"] = np.nan\n",
        "_p.to_csv(\"neo-provinces.csv\", index=False, header=True)\n",
        "\n",
        "_d[\"Status\"] = 1 \n",
        "_d[\"IsDeleted\"] = False\n",
        "_d[\"CreatedAt\"] = datetime.now().today()\n",
        "_d[\"UpdatedAt\"] = np.nan\n",
        "_d.to_csv(\"neo-districts.csv\", index=False, header=True)\n",
        "\n",
        "_w[\"Status\"] = 1 \n",
        "_w[\"IsDeleted\"] = False\n",
        "_w[\"CreatedAt\"] = datetime.now().today()\n",
        "_w[\"UpdatedAt\"] = np.nan\n",
        "_w.to_csv(\"neo-wards.csv\", index=False, header=True)"
      ]
    }
  ],
  "metadata": {
    "colab": {
      "provenance": []
    },
    "kernelspec": {
      "display_name": "Python 3 (ipykernel)",
      "language": "python",
      "name": "python3"
    },
    "language_info": {
      "codemirror_mode": {
        "name": "ipython",
        "version": 3
      },
      "file_extension": ".py",
      "mimetype": "text/x-python",
      "name": "python",
      "nbconvert_exporter": "python",
      "pygments_lexer": "ipython3",
      "version": "3.10.8"
    }
  },
  "nbformat": 4,
  "nbformat_minor": 0
}
