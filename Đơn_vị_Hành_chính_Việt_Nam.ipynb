{
  "nbformat": 4,
  "nbformat_minor": 0,
  "metadata": {
    "colab": {
      "provenance": []
    },
    "kernelspec": {
      "name": "python3",
      "display_name": "Python 3"
    },
    "language_info": {
      "name": "python"
    }
  },
  "cells": [
    {
      "cell_type": "code",
      "execution_count": 1,
      "metadata": {
        "id": "iD7kWWjilARQ"
      },
      "outputs": [],
      "source": [
        "import numpy as np\n",
        "import pandas as pd\n",
        "import re"
      ]
    },
    {
      "cell_type": "code",
      "source": [
        "def no_accent_vietnamese(s):\n",
        "    s = re.sub(u'[àáạảãâầấậẩẫăằắặẳẵ]', 'a', s)\n",
        "    s = re.sub(u'[ÀÁẠẢÃĂẰẮẶẲẴÂẦẤẬẨẪ]', 'A', s)\n",
        "    s = re.sub(u'[èéẹẻẽêềếệểễ]', 'e', s)\n",
        "    s = re.sub(u'[ÈÉẸẺẼÊỀẾỆỂỄ]', 'E', s)\n",
        "    s = re.sub(u'[òóọỏõôồốộổỗơờớợởỡ]', 'o', s)\n",
        "    s = re.sub(u'[ÒÓỌỎÕÔỒỐỘỔỖƠỜỚỢỞỠ]', 'O', s)\n",
        "    s = re.sub(u'[ìíịỉĩ]', 'i', s)\n",
        "    s = re.sub(u'[ÌÍỊỈĨ]', 'I', s)\n",
        "    s = re.sub(u'[ùúụủũưừứựửữ]', 'u', s)\n",
        "    s = re.sub(u'[ƯỪỨỰỬỮÙÚỤỦŨ]', 'U', s)\n",
        "    s = re.sub(u'[ỳýỵỷỹ]', 'y', s)\n",
        "    s = re.sub(u'[ỲÝỴỶỸ]', 'Y', s)\n",
        "    s = re.sub(u'Đ', 'D', s)\n",
        "    s = re.sub(u'đ', 'd', s)\n",
        "    s = s.lower()\n",
        "    return s"
      ],
      "metadata": {
        "id": "3P3MM65uD0Iy"
      },
      "execution_count": 2,
      "outputs": []
    },
    {
      "cell_type": "code",
      "source": [
        "df = pd.read_excel('/content/Danh sách cấp tỉnh kèm theo quận huyện, phường xã ___15_03_2023.xls')\n",
        "df = df.drop(['Tên Tiếng Anh'], axis=1)\n",
        "# df[df['Tỉnh Thành Phố'] == \"Thành phố Hải Phòng\"]\n",
        "df.info()"
      ],
      "metadata": {
        "colab": {
          "base_uri": "https://localhost:8080/"
        },
        "id": "e4F2f7AU8tdH",
        "outputId": "7ef23f02-347a-47b1-8e4d-550bf003914c"
      },
      "execution_count": 87,
      "outputs": [
        {
          "output_type": "stream",
          "name": "stdout",
          "text": [
            "WARNING *** file size (2453055) not 512 + multiple of sector size (512)\n",
            "<class 'pandas.core.frame.DataFrame'>\n",
            "RangeIndex: 10604 entries, 0 to 10603\n",
            "Data columns (total 7 columns):\n",
            " #   Column          Non-Null Count  Dtype  \n",
            "---  ------          --------------  -----  \n",
            " 0   Tỉnh Thành Phố  10604 non-null  object \n",
            " 1   Mã TP           10604 non-null  int64  \n",
            " 2   Quận Huyện      10604 non-null  object \n",
            " 3   Mã QH           10604 non-null  int64  \n",
            " 4   Phường Xã       10599 non-null  object \n",
            " 5   Mã PX           10599 non-null  float64\n",
            " 6   Cấp             10604 non-null  object \n",
            "dtypes: float64(1), int64(2), object(4)\n",
            "memory usage: 580.0+ KB\n"
          ]
        }
      ]
    },
    {
      "cell_type": "code",
      "source": [
        "df.isna().any()"
      ],
      "metadata": {
        "colab": {
          "base_uri": "https://localhost:8080/"
        },
        "id": "UJ7i0vS-psud",
        "outputId": "f827c34d-91e4-41e5-c740-58095bceec6b"
      },
      "execution_count": 88,
      "outputs": [
        {
          "output_type": "execute_result",
          "data": {
            "text/plain": [
              "Tỉnh Thành Phố    False\n",
              "Mã TP             False\n",
              "Quận Huyện        False\n",
              "Mã QH             False\n",
              "Phường Xã          True\n",
              "Mã PX              True\n",
              "Cấp               False\n",
              "dtype: bool"
            ]
          },
          "metadata": {},
          "execution_count": 88
        }
      ]
    },
    {
      "cell_type": "code",
      "source": [
        "df[df.isna().any(axis=1)]"
      ],
      "metadata": {
        "colab": {
          "base_uri": "https://localhost:8080/",
          "height": 206
        },
        "id": "WQ2W8VgApqjW",
        "outputId": "7621622a-83c0-40f1-edcd-63a3c17b8af4"
      },
      "execution_count": 89,
      "outputs": [
        {
          "output_type": "execute_result",
          "data": {
            "text/plain": [
              "              Tỉnh Thành Phố  Mã TP          Quận Huyện  Mã QH Phường Xã  \\\n",
              "3797     Thành phố Hải Phòng     31  Huyện Bạch Long Vĩ    318       NaN   \n",
              "6208          Tỉnh Quảng Trị     45        Huyện Cồn Cỏ    471       NaN   \n",
              "6406       Thành phố Đà Nẵng     48      Huyện Hoàng Sa    498       NaN   \n",
              "6821         Tỉnh Quảng Ngãi     51        Huyện Lý Sơn    536       NaN   \n",
              "8686  Tỉnh Bà Rịa - Vũng Tàu     77       Huyện Côn Đảo    755       NaN   \n",
              "\n",
              "      Mã PX    Cấp  \n",
              "3797    NaN  Huyện  \n",
              "6208    NaN  Huyện  \n",
              "6406    NaN  Huyện  \n",
              "6821    NaN  Huyện  \n",
              "8686    NaN  Huyện  "
            ],
            "text/html": [
              "\n",
              "  <div id=\"df-a9a903d4-d366-45f8-9b88-4743918ebbd6\">\n",
              "    <div class=\"colab-df-container\">\n",
              "      <div>\n",
              "<style scoped>\n",
              "    .dataframe tbody tr th:only-of-type {\n",
              "        vertical-align: middle;\n",
              "    }\n",
              "\n",
              "    .dataframe tbody tr th {\n",
              "        vertical-align: top;\n",
              "    }\n",
              "\n",
              "    .dataframe thead th {\n",
              "        text-align: right;\n",
              "    }\n",
              "</style>\n",
              "<table border=\"1\" class=\"dataframe\">\n",
              "  <thead>\n",
              "    <tr style=\"text-align: right;\">\n",
              "      <th></th>\n",
              "      <th>Tỉnh Thành Phố</th>\n",
              "      <th>Mã TP</th>\n",
              "      <th>Quận Huyện</th>\n",
              "      <th>Mã QH</th>\n",
              "      <th>Phường Xã</th>\n",
              "      <th>Mã PX</th>\n",
              "      <th>Cấp</th>\n",
              "    </tr>\n",
              "  </thead>\n",
              "  <tbody>\n",
              "    <tr>\n",
              "      <th>3797</th>\n",
              "      <td>Thành phố Hải Phòng</td>\n",
              "      <td>31</td>\n",
              "      <td>Huyện Bạch Long Vĩ</td>\n",
              "      <td>318</td>\n",
              "      <td>NaN</td>\n",
              "      <td>NaN</td>\n",
              "      <td>Huyện</td>\n",
              "    </tr>\n",
              "    <tr>\n",
              "      <th>6208</th>\n",
              "      <td>Tỉnh Quảng Trị</td>\n",
              "      <td>45</td>\n",
              "      <td>Huyện Cồn Cỏ</td>\n",
              "      <td>471</td>\n",
              "      <td>NaN</td>\n",
              "      <td>NaN</td>\n",
              "      <td>Huyện</td>\n",
              "    </tr>\n",
              "    <tr>\n",
              "      <th>6406</th>\n",
              "      <td>Thành phố Đà Nẵng</td>\n",
              "      <td>48</td>\n",
              "      <td>Huyện Hoàng Sa</td>\n",
              "      <td>498</td>\n",
              "      <td>NaN</td>\n",
              "      <td>NaN</td>\n",
              "      <td>Huyện</td>\n",
              "    </tr>\n",
              "    <tr>\n",
              "      <th>6821</th>\n",
              "      <td>Tỉnh Quảng Ngãi</td>\n",
              "      <td>51</td>\n",
              "      <td>Huyện Lý Sơn</td>\n",
              "      <td>536</td>\n",
              "      <td>NaN</td>\n",
              "      <td>NaN</td>\n",
              "      <td>Huyện</td>\n",
              "    </tr>\n",
              "    <tr>\n",
              "      <th>8686</th>\n",
              "      <td>Tỉnh Bà Rịa - Vũng Tàu</td>\n",
              "      <td>77</td>\n",
              "      <td>Huyện Côn Đảo</td>\n",
              "      <td>755</td>\n",
              "      <td>NaN</td>\n",
              "      <td>NaN</td>\n",
              "      <td>Huyện</td>\n",
              "    </tr>\n",
              "  </tbody>\n",
              "</table>\n",
              "</div>\n",
              "      <button class=\"colab-df-convert\" onclick=\"convertToInteractive('df-a9a903d4-d366-45f8-9b88-4743918ebbd6')\"\n",
              "              title=\"Convert this dataframe to an interactive table.\"\n",
              "              style=\"display:none;\">\n",
              "        \n",
              "  <svg xmlns=\"http://www.w3.org/2000/svg\" height=\"24px\"viewBox=\"0 0 24 24\"\n",
              "       width=\"24px\">\n",
              "    <path d=\"M0 0h24v24H0V0z\" fill=\"none\"/>\n",
              "    <path d=\"M18.56 5.44l.94 2.06.94-2.06 2.06-.94-2.06-.94-.94-2.06-.94 2.06-2.06.94zm-11 1L8.5 8.5l.94-2.06 2.06-.94-2.06-.94L8.5 2.5l-.94 2.06-2.06.94zm10 10l.94 2.06.94-2.06 2.06-.94-2.06-.94-.94-2.06-.94 2.06-2.06.94z\"/><path d=\"M17.41 7.96l-1.37-1.37c-.4-.4-.92-.59-1.43-.59-.52 0-1.04.2-1.43.59L10.3 9.45l-7.72 7.72c-.78.78-.78 2.05 0 2.83L4 21.41c.39.39.9.59 1.41.59.51 0 1.02-.2 1.41-.59l7.78-7.78 2.81-2.81c.8-.78.8-2.07 0-2.86zM5.41 20L4 18.59l7.72-7.72 1.47 1.35L5.41 20z\"/>\n",
              "  </svg>\n",
              "      </button>\n",
              "      \n",
              "  <style>\n",
              "    .colab-df-container {\n",
              "      display:flex;\n",
              "      flex-wrap:wrap;\n",
              "      gap: 12px;\n",
              "    }\n",
              "\n",
              "    .colab-df-convert {\n",
              "      background-color: #E8F0FE;\n",
              "      border: none;\n",
              "      border-radius: 50%;\n",
              "      cursor: pointer;\n",
              "      display: none;\n",
              "      fill: #1967D2;\n",
              "      height: 32px;\n",
              "      padding: 0 0 0 0;\n",
              "      width: 32px;\n",
              "    }\n",
              "\n",
              "    .colab-df-convert:hover {\n",
              "      background-color: #E2EBFA;\n",
              "      box-shadow: 0px 1px 2px rgba(60, 64, 67, 0.3), 0px 1px 3px 1px rgba(60, 64, 67, 0.15);\n",
              "      fill: #174EA6;\n",
              "    }\n",
              "\n",
              "    [theme=dark] .colab-df-convert {\n",
              "      background-color: #3B4455;\n",
              "      fill: #D2E3FC;\n",
              "    }\n",
              "\n",
              "    [theme=dark] .colab-df-convert:hover {\n",
              "      background-color: #434B5C;\n",
              "      box-shadow: 0px 1px 3px 1px rgba(0, 0, 0, 0.15);\n",
              "      filter: drop-shadow(0px 1px 2px rgba(0, 0, 0, 0.3));\n",
              "      fill: #FFFFFF;\n",
              "    }\n",
              "  </style>\n",
              "\n",
              "      <script>\n",
              "        const buttonEl =\n",
              "          document.querySelector('#df-a9a903d4-d366-45f8-9b88-4743918ebbd6 button.colab-df-convert');\n",
              "        buttonEl.style.display =\n",
              "          google.colab.kernel.accessAllowed ? 'block' : 'none';\n",
              "\n",
              "        async function convertToInteractive(key) {\n",
              "          const element = document.querySelector('#df-a9a903d4-d366-45f8-9b88-4743918ebbd6');\n",
              "          const dataTable =\n",
              "            await google.colab.kernel.invokeFunction('convertToInteractive',\n",
              "                                                     [key], {});\n",
              "          if (!dataTable) return;\n",
              "\n",
              "          const docLinkHtml = 'Like what you see? Visit the ' +\n",
              "            '<a target=\"_blank\" href=https://colab.research.google.com/notebooks/data_table.ipynb>data table notebook</a>'\n",
              "            + ' to learn more about interactive tables.';\n",
              "          element.innerHTML = '';\n",
              "          dataTable['output_type'] = 'display_data';\n",
              "          await google.colab.output.renderOutput(dataTable, element);\n",
              "          const docLink = document.createElement('div');\n",
              "          docLink.innerHTML = docLinkHtml;\n",
              "          element.appendChild(docLink);\n",
              "        }\n",
              "      </script>\n",
              "    </div>\n",
              "  </div>\n",
              "  "
            ]
          },
          "metadata": {},
          "execution_count": 89
        }
      ]
    },
    {
      "cell_type": "code",
      "source": [
        "df.columns"
      ],
      "metadata": {
        "colab": {
          "base_uri": "https://localhost:8080/"
        },
        "id": "xIDSQtys9Dq6",
        "outputId": "284187b1-4831-409f-cdcc-f3ba22c771b1"
      },
      "execution_count": 72,
      "outputs": [
        {
          "output_type": "execute_result",
          "data": {
            "text/plain": [
              "Index(['Tỉnh Thành Phố', 'Mã TP', 'Quận Huyện', 'Mã QH', 'Phường Xã', 'Mã PX',\n",
              "       'Cấp', 'Tên Tiếng Anh'],\n",
              "      dtype='object')"
            ]
          },
          "metadata": {},
          "execution_count": 72
        }
      ]
    },
    {
      "cell_type": "code",
      "source": [
        "data = {\"provincesCities\": []}\n",
        "provinces = df['Tỉnh Thành Phố'].unique()\n",
        "for province in provinces:\n",
        "    rslt_df = df[df['Tỉnh Thành Phố'] == province] \n",
        "    item = {\n",
        "        \"id\": int(rslt_df.values[0][1]),\n",
        "        \"name\": rslt_df.values[0][0],\n",
        "        \"slug\": no_accent_vietnamese(rslt_df.values[0][0]).replace('-', '_').replace(' ', '_').replace('___', '_'),\n",
        "        \"district\": []\n",
        "    }\n",
        "    districts = rslt_df['Quận Huyện'].unique()\n",
        "    \n",
        "    for district in districts:\n",
        "        ward = df[df['Quận Huyện'] == district]\n",
        "        \n",
        "        item_district = {\n",
        "            \"id\": int(ward.values[0][3]),\n",
        "            \"name\": ward.values[0][2],\n",
        "            \"slug\": no_accent_vietnamese(ward.values[0][2]).replace('-', '_').replace(' ', '_').replace('___', '_'),\n",
        "            \"ward\": [],\n",
        "        }\n",
        "        for row in ward.values:\n",
        "            try:\n",
        "                item_ward = {\n",
        "                \"id\": int(row[5]),\n",
        "                \"name\": row[4],\n",
        "                \"slug\": no_accent_vietnamese(row[4]).replace('-', '_').replace(' ', '_').replace('___', '_'),\n",
        "                }\n",
        "                item_district['ward'].append(item_ward)\n",
        "            except:\n",
        "                pass\n",
        "        item['district'].append(item_district)\n",
        "    data['provincesCities'].append(item)\n"
      ],
      "metadata": {
        "id": "qClJOWD6bE2K"
      },
      "execution_count": 73,
      "outputs": []
    },
    {
      "cell_type": "code",
      "source": [
        "import json\n",
        " \n",
        "with open(\"data.json\", \"w\") as outfile:\n",
        "    json.dump(data, outfile, ensure_ascii=False)"
      ],
      "metadata": {
        "id": "nw5aad6lEdN6"
      },
      "execution_count": 75,
      "outputs": []
    },
    {
      "cell_type": "code",
      "source": [
        "{\n",
        "    \"id\": 1,\n",
        "    \"name\": \"Thành phố Hà Nội\",\n",
        "    \"slug\": \"Thành phố Hà Nội\",\n",
        "    \"district\": [],\n",
        "}"
      ],
      "metadata": {
        "colab": {
          "base_uri": "https://localhost:8080/"
        },
        "id": "r7JK_BCuPfBc",
        "outputId": "36f09e97-c8c1-4f8e-c19e-15052e61fee8"
      },
      "execution_count": 90,
      "outputs": [
        {
          "output_type": "execute_result",
          "data": {
            "text/plain": [
              "{'id': 1,\n",
              " 'name': 'Thành phố Hà Nội',\n",
              " 'slug': 'Thành phố Hà Nội',\n",
              " 'district': []}"
            ]
          },
          "metadata": {},
          "execution_count": 90
        }
      ]
    }
  ]
}